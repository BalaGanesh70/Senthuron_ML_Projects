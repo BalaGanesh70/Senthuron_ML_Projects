{
 "cells": [
  {
   "cell_type": "code",
   "execution_count": 3,
   "id": "a965d9e7",
   "metadata": {},
   "outputs": [],
   "source": [
    "from transformers import pipeline\n",
    "import pandas as pd\n",
    "import re\n",
    "import os"
   ]
  },
  {
   "cell_type": "code",
   "execution_count": 4,
   "id": "ecacd097",
   "metadata": {},
   "outputs": [],
   "source": [
    "# Load dataset and take only the first 1000 rows\n",
    "df = pd.read_csv(\"Generated_Summaries.csv\").head(1000)"
   ]
  },
  {
   "cell_type": "code",
   "execution_count": 5,
   "id": "886d0755",
   "metadata": {},
   "outputs": [],
   "source": [
    "# Clean the text\n",
    "def clean_text(text):\n",
    "    text = re.sub(r'header:\\s*', '', str(text), flags=re.IGNORECASE)\n",
    "    text = re.sub(r'\\s+', ' ', text).strip()\n",
    "    text = re.sub(r'<.*?>', '', text)\n",
    "    return text[:1000]  # Truncate to 1000 characters to avoid token limit"
   ]
  },
  {
   "cell_type": "code",
   "execution_count": 6,
   "id": "13797550",
   "metadata": {},
   "outputs": [],
   "source": [
    "# Drop rows with missing values in required columns\n",
    "df = df.dropna(subset=['text', 'article_summaries'])\n",
    "\n",
    "# Apply cleaning\n",
    "df['clean_text'] = df['text'].apply(clean_text)"
   ]
  },
  {
   "cell_type": "code",
   "execution_count": 7,
   "id": "8a4ddb30",
   "metadata": {},
   "outputs": [
    {
     "name": "stderr",
     "output_type": "stream",
     "text": [
      "Device set to use cpu\n"
     ]
    }
   ],
   "source": [
    "# Load BART summarizer\n",
    "summarizer = pipeline(\"summarization\", model=\"facebook/bart-large-cnn\", framework=\"pt\")"
   ]
  },
  {
   "cell_type": "code",
   "execution_count": 8,
   "id": "866a519f",
   "metadata": {},
   "outputs": [],
   "source": [
    "# Generate summaries for first 10 rows\n",
    "df['bart_summary'] = df['clean_text'].head(10).apply(\n",
    "    lambda text: summarizer(text, max_length=60, min_length=30, do_sample=False)[0]['summary_text']\n",
    ")"
   ]
  },
  {
   "cell_type": "code",
   "execution_count": 9,
   "id": "795995d6",
   "metadata": {},
   "outputs": [
    {
     "name": "stdout",
     "output_type": "stream",
     "text": [
      "                                          clean_text  \\\n",
      "0  Plains Indians Tell Their Stories Through Ledg...   \n",
      "1  Cancer Compatibility in Love, Work and Friends...   \n",
      "2  Scorpio Personality: October 23 - November 21:...   \n",
      "3  Was Humpty Dumpty Really an Egg?: The nursery ...   \n",
      "4  Christo Was His Name, Wrapping Was His Game: M...   \n",
      "\n",
      "                                   article_summaries  \\\n",
      "0  Hey there, art lovers! Ever heard of Ledger Ar...   \n",
      "1  Hey there, star gazers! Ever wondered how your...   \n",
      "2  Hey there, stargazers! Ever wondered what make...   \n",
      "3  Hey there, curious minds! Ever wondered about ...   \n",
      "4  Hey there, art enthusiasts! Ever heard of Chri...   \n",
      "\n",
      "                                        bart_summary  \n",
      "0  Ledger art is a form of drawing practiced by P...  \n",
      "1  If your birthday falls between June 21 and Jul...  \n",
      "2  Scorpio is the eighth sign of the astrological...  \n",
      "3  Humpty Dumpty is portrayed as an egg with huma...  \n",
      "4  Christo Vladimirov Javacheff, known worldwide ...  \n"
     ]
    }
   ],
   "source": [
    "# Show results\n",
    "print(df[['clean_text', 'article_summaries', 'bart_summary']].head())"
   ]
  },
  {
   "cell_type": "code",
   "execution_count": 10,
   "id": "e6142c0b",
   "metadata": {},
   "outputs": [],
   "source": [
    "import evaluate\n",
    "\n",
    "# Load ROUGE metric\n",
    "rouge = evaluate.load(\"rouge\")\n",
    "\n",
    "# Initialize a list to store the ROUGE-1 scores\n",
    "rouge1_scores = []\n",
    "\n",
    "# Ensure predictions and references are in list format\n",
    "for p, r in zip(df['bart_summary'], df['article_summaries']):\n",
    "    result = rouge.compute(predictions=[str(p)], references=[str(r)])\n",
    "    rouge1_scores.append(result['rouge1'])  # Directly append the ROUGE-1 score\n",
    "\n",
    "# Add the ROUGE-1 scores to your DataFrame\n",
    "df['rouge1'] = rouge1_scores"
   ]
  },
  {
   "cell_type": "code",
   "execution_count": 11,
   "id": "cfed2a09",
   "metadata": {},
   "outputs": [
    {
     "data": {
      "image/png": "[encoded data removed]",
      "text/plain": [
       "<Figure size 640x480 with 1 Axes>"
      ]
     },
     "metadata": {},
     "output_type": "display_data"
    }
   ],
   "source": [
    "import matplotlib.pyplot as plt\n",
    "\n",
    "# Plot the histogram\n",
    "plt.hist(df['rouge1'], bins=10, color='skyblue')\n",
    "plt.title(\"ROUGE-1 F1 Score Distribution\")\n",
    "plt.xlabel(\"ROUGE-1 F1 Score\")\n",
    "plt.ylabel(\"Number of Samples\")\n",
    "plt.show()"
   ]
  },
  {
   "cell_type": "code",
   "execution_count": 12,
   "id": "d01b263a",
   "metadata": {},
   "outputs": [
    {
     "name": "stderr",
     "output_type": "stream",
     "text": [
      "Device set to use cpu\n"
     ]
    }
   ],
   "source": [
    "t5_summarizer = pipeline(\"summarization\", model=\"t5-small\")\n",
    "df['t5_summary'] = df['clean_text'].head(10).apply(\n",
    "    lambda text: t5_summarizer(text, max_length=60, min_length=30, do_sample=False)[0]['summary_text']\n",
    ")"
   ]
  },
  {
   "cell_type": "code",
   "execution_count": 13,
   "id": "eeee7908",
   "metadata": {},
   "outputs": [],
   "source": [
    "from sklearn.feature_extraction.text import TfidfVectorizer\n",
    "\n",
    "def extract_keywords(text, n=5):\n",
    "    vec = TfidfVectorizer(stop_words='english')\n",
    "    tfidf = vec.fit_transform([text])\n",
    "    indices = tfidf[0].toarray().argsort()[0][-n:]\n",
    "    keywords = [vec.get_feature_names_out()[i] for i in indices]\n",
    "    return keywords\n",
    "\n",
    "df['keywords'] = df['clean_text'].apply(extract_keywords)"
   ]
  }
 ],
 "metadata": {
  "kernelspec": {
   "display_name": "base",
   "language": "python",
   "name": "python3"
  },
  "language_info": {
   "codemirror_mode": {
    "name": "ipython",
    "version": 3
   },
   "file_extension": ".py",
   "mimetype": "text/x-python",
   "name": "python",
   "nbconvert_exporter": "python",
   "pygments_lexer": "ipython3",
   "version": "3.12.3"
  }
 },
 "nbformat": 4,
 "nbformat_minor": 5
}
